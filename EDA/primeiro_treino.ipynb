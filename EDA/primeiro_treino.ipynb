{
 "cells": [
  {
   "cell_type": "code",
   "execution_count": 21,
   "metadata": {},
   "outputs": [],
   "source": [
    "import shap\n",
    "import pandas as pd\n",
    "import numpy as np\n",
    "import matplotlib.pyplot as plt\n",
    "from sklearn.model_selection import StratifiedKFold\n",
    "from sklearn.preprocessing import StandardScaler\n",
    "from sklearn.linear_model import LinearRegression\n",
    "from sklearn.metrics import accuracy_score, precision_score, recall_score, f1_score"
   ]
  },
  {
   "cell_type": "markdown",
   "metadata": {},
   "source": [
    "### Primeiro Modelo sem alterações"
   ]
  },
  {
   "cell_type": "code",
   "execution_count": 22,
   "metadata": {},
   "outputs": [
    {
     "name": "stdout",
     "output_type": "stream",
     "text": [
      "Acurácia média: 0.9072\n",
      "Precisão média: 0.9581\n",
      "Recall médio: 0.7980\n",
      "F1-score médio: 0.8706\n"
     ]
    }
   ],
   "source": [
    "df = pd.read_csv(\"datasetRAW.csv\", sep = \",\")\n",
    "\n",
    "df = df[df['Target'] != 'Enrolled']\n",
    "\n",
    "x = df.drop(columns=['Target'])\n",
    "y = df['Target'].apply(lambda x: 1 if x == 'Dropout' else 0)\n",
    "\n",
    "x.shape, y.shape\n",
    "\n",
    "#Modelo\n",
    "modelo = LinearRegression()\n",
    "\n",
    "#Normalização dos dados para que o algoritmo não de mais importância a valores como idade = 70 em vez de Creaditos aprovados = 18\n",
    "scaler = StandardScaler()\n",
    "x_scaled = pd.DataFrame(scaler.fit_transform(x), columns=x.columns)\n",
    "\n",
    "# Inicializar StratifiedKFold\n",
    "kf = StratifiedKFold(n_splits=5, shuffle=True, random_state=42)\n",
    "\n",
    "#Listas para registar os resultados para depois serem feitas as médias\n",
    "accuracy_list = []\n",
    "precision_list = []\n",
    "recall_list = []\n",
    "f1_list = []\n",
    "\n",
    "for i_train, i_test in kf.split(x_scaled, y):\n",
    "    x_train, x_test = x_scaled.iloc[i_train], x_scaled.iloc[i_test] #iloc permite usar linhas/colunas especificas do data set conforme o index\n",
    "    y_train, y_test = y.iloc[i_train], y.iloc[i_test]\n",
    "\n",
    "    #Treino do modelo\n",
    "    modelo.fit(x_train, y_train)\n",
    "\n",
    "    #Resultado de valores continuos uma vez que estamos a usar regressão linear\n",
    "    res_continuos = modelo.predict(x_test) #Retorna apenas os resultados da previsão\n",
    "\n",
    "    #Converter de valores continuos para Valores Binários, problema de regressão para problema de classificação\n",
    "    intervalo_de_admissao = 0.5\n",
    "    res_binario = (res_continuos >= intervalo_de_admissao).astype(int)\n",
    "\n",
    "    #Calculo de Metricas\n",
    "    accuracy_list.append(accuracy_score(y_test, res_binario))\n",
    "    precision_list.append(precision_score(y_test, res_binario))\n",
    "    recall_list.append(recall_score(y_test, res_binario))\n",
    "    f1_list.append(f1_score(y_test, res_binario))\n",
    "\n",
    "print(f\"Acurácia média: {np.mean(accuracy_list):.4f}\")\n",
    "print(f\"Precisão média: {np.mean(precision_list):.4f}\")\n",
    "print(f\"Recall médio: {np.mean(recall_list):.4f}\")\n",
    "print(f\"F1-score médio: {np.mean(f1_list):.4f}\")"
   ]
  },
  {
   "cell_type": "markdown",
   "metadata": {},
   "source": [
    "### Modelo sem a coluna Nacionalidade"
   ]
  },
  {
   "cell_type": "code",
   "execution_count": 23,
   "metadata": {},
   "outputs": [
    {
     "name": "stdout",
     "output_type": "stream",
     "text": [
      "Acurácia média: 0.9072\n",
      "Precisão média: 0.9581\n",
      "Recall médio: 0.7980\n",
      "F1-score médio: 0.8706\n"
     ]
    }
   ],
   "source": [
    "df = pd.read_csv(\"datasetRAW.csv\", sep = \",\")\n",
    "\n",
    "df = df[df['Target'] != 'Enrolled']\n",
    "\n",
    "x = df.drop(columns=['Target', 'Nacionality'])\n",
    "y = df['Target'].apply(lambda x: 1 if x == 'Dropout' else 0)\n",
    "\n",
    "x.shape, y.shape\n",
    "\n",
    "#Modelo\n",
    "modelo = LinearRegression()\n",
    "\n",
    "#Normalização dos dados para que o algoritmo não de mais importância a valores como idade = 70 em vez de Creaditos aprovados = 18\n",
    "scaler = StandardScaler()\n",
    "x_scaled = pd.DataFrame(scaler.fit_transform(x), columns=x.columns)\n",
    "\n",
    "# Inicializar StratifiedKFold\n",
    "kf = StratifiedKFold(n_splits=5, shuffle=True, random_state=42)\n",
    "\n",
    "#Listas para registar os resultados para depois serem feitas as médias\n",
    "accuracy_list = []\n",
    "precision_list = []\n",
    "recall_list = []\n",
    "f1_list = []\n",
    "\n",
    "for i_train, i_test in kf.split(x_scaled, y):\n",
    "    x_train, x_test = x_scaled.iloc[i_train], x_scaled.iloc[i_test] #iloc permite usar linhas/colunas especificas do data set conforme o index\n",
    "    y_train, y_test = y.iloc[i_train], y.iloc[i_test]\n",
    "\n",
    "    #Treino do modelo\n",
    "    modelo.fit(x_train, y_train)\n",
    "\n",
    "    #Resultado de valores continuos uma vez que estamos a usar regressão linear\n",
    "    res_continuos = modelo.predict(x_test) #Retorna apenas os resultados da previsão\n",
    "\n",
    "    #Converter de valores continuos para Valores Binários, problema de regressão para problema de classificação\n",
    "    intervalo_de_admissao = 0.5\n",
    "    res_binario = (res_continuos >= intervalo_de_admissao).astype(int)\n",
    "\n",
    "    #Calculo de Metricas\n",
    "    accuracy_list.append(accuracy_score(y_test, res_binario))\n",
    "    precision_list.append(precision_score(y_test, res_binario))\n",
    "    recall_list.append(recall_score(y_test, res_binario))\n",
    "    f1_list.append(f1_score(y_test, res_binario))\n",
    "\n",
    "print(f\"Acurácia média: {np.mean(accuracy_list):.4f}\")\n",
    "print(f\"Precisão média: {np.mean(precision_list):.4f}\")\n",
    "print(f\"Recall médio: {np.mean(recall_list):.4f}\")\n",
    "print(f\"F1-score médio: {np.mean(f1_list):.4f}\")\n"
   ]
  },
  {
   "cell_type": "markdown",
   "metadata": {},
   "source": [
    "### Modelo com Media entre Cadeiras Creditadas e Cadeiras Inscritas"
   ]
  },
  {
   "cell_type": "code",
   "execution_count": 28,
   "metadata": {},
   "outputs": [
    {
     "name": "stdout",
     "output_type": "stream",
     "text": [
      "Acurácia média: 0.9077\n",
      "Precisão média: 0.9605\n",
      "Recall médio: 0.7973\n",
      "F1-score médio: 0.8712\n"
     ]
    }
   ],
   "source": [
    "df[\"Media_Creditada\"] = df[[\"Curricular units 1st sem (credited)\", \"Curricular units 2nd sem (credited)\"]].mean(axis=1)  # Calcula a média linha a linha\n",
    "df[\"Media_Incrita\"] = df[[\"Curricular units 1st sem (enrolled)\",\"Curricular units 2nd sem (enrolled)\"]].mean(axis=1)\n",
    "\n",
    "x = df.drop(columns=['Target', 'Nacionality',\"Curricular units 1st sem (credited)\",\"Curricular units 2nd sem (credited)\",\"Curricular units 1st sem (enrolled)\", \"Curricular units 2nd sem (enrolled)\"])\n",
    "y = df['Target'].apply(lambda x: 1 if x == 'Dropout' else 0)\n",
    "\n",
    "x.shape, y.shape\n",
    "\n",
    "#Modelo\n",
    "modelo = LinearRegression()\n",
    "\n",
    "#Normalização dos dados para que o algoritmo não de mais importância a valores como idade = 70 em vez de Creaditos aprovados = 18\n",
    "scaler = StandardScaler()\n",
    "x_scaled = pd.DataFrame(scaler.fit_transform(x), columns=x.columns)\n",
    "\n",
    "# Inicializar StratifiedKFold\n",
    "kf = StratifiedKFold(n_splits=5, shuffle=True, random_state=42)\n",
    "\n",
    "#Listas para registar os resultados para depois serem feitas as médias\n",
    "accuracy_list = []\n",
    "precision_list = []\n",
    "recall_list = []\n",
    "f1_list = []\n",
    "\n",
    "for i_train, i_test in kf.split(x_scaled, y):\n",
    "    x_train, x_test = x_scaled.iloc[i_train], x_scaled.iloc[i_test] #iloc permite usar linhas/colunas especificas do data set conforme o index\n",
    "    y_train, y_test = y.iloc[i_train], y.iloc[i_test]\n",
    "\n",
    "    #Treino do modelo\n",
    "    modelo.fit(x_train, y_train)\n",
    "\n",
    "    #Resultado de valores continuos uma vez que estamos a usar regressão linear\n",
    "    res_continuos = modelo.predict(x_test) #Retorna apenas os resultados da previsão\n",
    "\n",
    "    #Converter de valores continuos para Valores Binários, problema de regressão para problema de classificação\n",
    "    intervalo_de_admissao = 0.5\n",
    "    res_binario = (res_continuos >= intervalo_de_admissao).astype(int)\n",
    "\n",
    "    #Calculo de Metricas\n",
    "    accuracy_list.append(accuracy_score(y_test, res_binario))\n",
    "    precision_list.append(precision_score(y_test, res_binario))\n",
    "    recall_list.append(recall_score(y_test, res_binario))\n",
    "    f1_list.append(f1_score(y_test, res_binario))\n",
    "\n",
    "print(f\"Acurácia média: {np.mean(accuracy_list):.4f}\")\n",
    "print(f\"Precisão média: {np.mean(precision_list):.4f}\")\n",
    "print(f\"Recall médio: {np.mean(recall_list):.4f}\")\n",
    "print(f\"F1-score médio: {np.mean(f1_list):.4f}\")\n",
    "\n"
   ]
  }
 ],
 "metadata": {
  "kernelspec": {
   "display_name": ".venv",
   "language": "python",
   "name": "python3"
  },
  "language_info": {
   "codemirror_mode": {
    "name": "ipython",
    "version": 3
   },
   "file_extension": ".py",
   "mimetype": "text/x-python",
   "name": "python",
   "nbconvert_exporter": "python",
   "pygments_lexer": "ipython3",
   "version": "3.12.1"
  }
 },
 "nbformat": 4,
 "nbformat_minor": 2
}
