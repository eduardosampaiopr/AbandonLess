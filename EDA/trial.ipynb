{
 "cells": [
  {
   "cell_type": "markdown",
   "metadata": {},
   "source": [
    "# Import de Bibliotecas"
   ]
  },
  {
   "cell_type": "code",
   "execution_count": 4,
   "metadata": {},
   "outputs": [],
   "source": [
    "import pandas as pd\n",
    "import numpy as np\n",
    "import matplotlib.pylab as plt\n",
    "import seaborn as sns\n",
    "#plt.style.use('ggplot')\n",
    "#pd.set_option('max_columns', 200)"
   ]
  },
  {
   "cell_type": "markdown",
   "metadata": {},
   "source": [
    "# Leitura e Data Understanding de DataSet"
   ]
  },
  {
   "cell_type": "code",
   "execution_count": 10,
   "metadata": {},
   "outputs": [
    {
     "name": "stdout",
     "output_type": "stream",
     "text": [
      "Linhas: 4424  Colunas 36\n"
     ]
    },
    {
     "data": {
      "text/plain": [
       "Unnamed: 0                                          int64\n",
       "Marital status                                     object\n",
       "Application mode                                   object\n",
       "Application order                                   int64\n",
       "Course                                             object\n",
       "Daytime/evening attendance                         object\n",
       "Previous qualification                             object\n",
       "Nacionality                                        object\n",
       "Mother's qualification                             object\n",
       "Father's qualification                             object\n",
       "Mother's occupation                                object\n",
       "Father's occupation                                object\n",
       "Displaced                                          object\n",
       "Educational special needs                          object\n",
       "Debtor                                             object\n",
       "Tuition fees up to date                             int64\n",
       "Gender                                             object\n",
       "Scholarship holder                                  int64\n",
       "Age at enrollment                                   int64\n",
       "International                                       int64\n",
       "Curricular units 1st sem (credited)                 int64\n",
       "Curricular units 1st sem (enrolled)                 int64\n",
       "Curricular units 1st sem (evaluations)              int64\n",
       "Curricular units 1st sem (approved)                 int64\n",
       "Curricular units 1st sem (grade)                  float64\n",
       "Curricular units 1st sem (without evaluations)      int64\n",
       "Curricular units 2nd sem (credited)                 int64\n",
       "Curricular units 2nd sem (enrolled)                 int64\n",
       "Curricular units 2nd sem (evaluations)              int64\n",
       "Curricular units 2nd sem (approved)                 int64\n",
       "Curricular units 2nd sem (grade)                  float64\n",
       "Curricular units 2nd sem (without evaluations)      int64\n",
       "Unemployment rate                                 float64\n",
       "Inflation rate                                    float64\n",
       "GDP                                               float64\n",
       "Target                                             object\n",
       "dtype: object"
      ]
     },
     "execution_count": 10,
     "metadata": {},
     "output_type": "execute_result"
    }
   ],
   "source": [
    "ds = pd.read_csv(\"C:/Users/Eduardo/Desktop/AbandonLess/EDA/DataSet_formatado.csv\", sep = \";\")\n",
    "\n",
    "print(\"Linhas:\", ds.shape[0], \" Colunas\", ds.shape[1]) \n",
    "\n",
    "ds.dtypes"
   ]
  },
  {
   "cell_type": "code",
   "execution_count": 27,
   "metadata": {},
   "outputs": [
    {
     "data": {
      "text/plain": [
       "Application mode\n",
       "1st phase—general contingent                           1708\n",
       "2nd phase—general contingent                            872\n",
       "Over 23 years old                                       785\n",
       "Change in course                                        312\n",
       " Technological specialization diploma holders           213\n",
       "Holders of other higher courses                         139\n",
       "3rd phase—general contingent                            124\n",
       "Transfer                                                 77\n",
       "Change in institution/course                             59\n",
       "1st phase—special contingent (Madeira Island)            38\n",
       "Short cycle diploma holders                              35\n",
       "International student (bachelor)                         30\n",
       "1st phase—special contingent (Azores Island)             16\n",
       "Ordinance No. 854-B/99                                   10\n",
       "Ordinance No. 612/93                                      3\n",
       "Change in institution/course (International)              1\n",
       "Ordinance No. 533-A/99, item b2) (Different Plan)         1\n",
       "Ordinance No. 533-A/99, item b3 (Other Institution)       1\n",
       "Name: count, dtype: int64"
      ]
     },
     "execution_count": 27,
     "metadata": {},
     "output_type": "execute_result"
    }
   ],
   "source": [
    "ds[\"Application mode\"].unique()\n",
    "ds[\"Application mode\"].value_counts()\n"
   ]
  },
  {
   "cell_type": "markdown",
   "metadata": {},
   "source": [
    "# Substituição de Valores no CSV "
   ]
  },
  {
   "cell_type": "code",
   "execution_count": null,
   "metadata": {},
   "outputs": [],
   "source": [
    "courses_dict = {\n",
    "    1: \"Biofuel Production Technologies\",\n",
    "    2: \"Animation and Multimedia Design\",\n",
    "    3: \"Social Service (evening attendance)\",\n",
    "    4: \"Agronomy\",\n",
    "    5: \"Communication Design\",\n",
    "    6: \"Veterinary Nursing\",\n",
    "    7: \"Informatics Engineering\",\n",
    "    8: \"Equiniculture\",\n",
    "    9: \"Management\",\n",
    "    10: \"Social Service\",\n",
    "    11: \"Tourism\",\n",
    "    12: \"Nursing\",\n",
    "    13: \"Oral Hygiene\",\n",
    "    14: \"Advertising and Marketing Management\",\n",
    "    15: \"Journalism and Communication\",\n",
    "    16: \"Basic Education\",\n",
    "    17: \"Management (evening attendance)\"}\n",
    "\n",
    "\n",
    "ds[\"Course\"] = ds[\"Course\"].map(courses_dict)\n",
    "\n",
    "\n",
    "\n"
   ]
  },
  {
   "cell_type": "code",
   "execution_count": null,
   "metadata": {},
   "outputs": [],
   "source": [
    "occup_dict = {\n",
    "    1: \"Student\",\n",
    "    2: \"Representatives of the Legislative Power and Executive Bodies, Directors, Directors and Executive Managers\",\n",
    "    3: \"Specialists in Intellectual and Scientific Activities\",\n",
    "    4: \"Intermediate Level Technicians and Professions\",\n",
    "    5: \"Administrative staff\",\n",
    "    6: \"Personal Services, Security and Safety Workers, and Sellers\",\n",
    "    7: \"Farmers and Skilled Workers in Agriculture, Fisheries, and Forestry\",\n",
    "    8: \"Skilled Workers in Industry, Construction, and Craftsmen\",\n",
    "    9: \"Installation and Machine Operators and Assembly Workers\",\n",
    "    10: \"Unskilled Workers\",\n",
    "    11: \"Armed Forces Professions\",\n",
    "    12: \"Other Situation\",\n",
    "    13: \"Armed Forces Officers\",\n",
    "    14: \"Armed Forces Sergeants\",\n",
    "    15: \"Other Armed Forces Personnel\",\n",
    "    16: \"Directors of Administrative and Commercial Services\",\n",
    "    17: \"Hotel, Catering, Trade, and Other Services Directors\",\n",
    "    18: \"Specialists in the Physical Sciences, Mathematics, Engineering, and Related Techniques\",\n",
    "    19: \"Health Professionals\",\n",
    "    20: \"Teachers\",\n",
    "    21: \"Specialists in Finance, Accounting, Administrative Organization, and Public and Commercial Relations\",\n",
    "    22: \"Intermediate Level Science and Engineering Technicians and Professions\",\n",
    "    23: \"Technicians and Professionals of Intermediate Level of Health\",\n",
    "    24: \"Intermediate Level Technicians from Legal, Social, Sports, Cultural, and Similar Services\",\n",
    "    25: \"Information and Communication Technology Technicians\",\n",
    "    26: \"Office Workers, Secretaries in General, and Data Processing Operators\",\n",
    "    27: \"Data, Accounting, Statistical, Financial Services, and Registry-Related Operators\",\n",
    "    28: \"Other Administrative Support Staff\",\n",
    "    29: \"Personal Service Workers\",\n",
    "    30: \"Sellers\",\n",
    "    31: \"Personal Care Workers and the Like\",\n",
    "    32: \"Protection and Security Services Personnel\",\n",
    "    33: \"Market-Oriented Farmers and Skilled Agricultural and Animal Production Workers\",\n",
    "    34: \"Farmers, Livestock Keepers, Fishermen, Hunters and Gatherers, and Subsistence\",\n",
    "    35: \"Skilled Construction Workers and the Like, Except Electricians\",\n",
    "    36: \"Skilled Workers in Metallurgy, Metalworking, and Similar\",\n",
    "    37: \"Skilled Workers in Electricity and Electronics\",\n",
    "    38: \"Workers in Food Processing, Woodworking, and Clothing and Other Industries and Crafts\",\n",
    "    39: \"Fixed Plant and Machine Operators\",\n",
    "    40: \"Assembly Workers\",\n",
    "    41: \"Vehicle Drivers and Mobile Equipment Operators\",\n",
    "    42: \"Unskilled Workers in Agriculture, Animal Production, and Fisheries and Forestry\",\n",
    "    43: \"Unskilled Workers in Extractive Industry, Construction, Manufacturing, and Transport\",\n",
    "    44: \"Meal Preparation Assistants\",\n",
    "    45: \"Street Vendors (Except Food) and Street Service Providers\"\n",
    "}\n",
    "\n",
    "ds[\"Mother's occupation\"] = ds[\"Mother's occupation\"].map(occup_dict).fillna(ds[\"Mother's occupation\"])\n",
    "ds[\"Father's occupation\"] = ds[\"Father's occupation\"].map(occup_dict).fillna(ds[\"Father's occupation\"])"
   ]
  },
  {
   "cell_type": "code",
   "execution_count": 7,
   "metadata": {},
   "outputs": [],
   "source": [
    "nationality_dict = {\n",
    "    1: \"Portuguese\",\n",
    "    2: \"German\",\n",
    "    3: \"Spanish\",\n",
    "    4: \"Italian\",\n",
    "    5: \"Dutch\",\n",
    "    6: \"English\",\n",
    "    7: \"Lithuanian\",\n",
    "    8: \"Angolan\",\n",
    "    9: \"Cape Verdean\",\n",
    "    10: \"Guinean\",\n",
    "    11: \"Mozambican\",\n",
    "    12: \"Santomean\",\n",
    "    13: \"Turkish\",\n",
    "    14: \"Brazilian\",\n",
    "    15: \"Romanian\",\n",
    "    16: \"Moldova (Republic of)\",\n",
    "    17: \"Mexican\",\n",
    "    18: \"Ukrainian\",\n",
    "    19: \"Russian\",\n",
    "    20: \"Cuban\",\n",
    "    21: \"Colombian\"\n",
    "}\n",
    "\n",
    "ds[\"Nacionality\"] = ds[\"Nacionality\"].map(nationality_dict).fillna(ds[\"Nacionality\"])"
   ]
  },
  {
   "cell_type": "code",
   "execution_count": 8,
   "metadata": {},
   "outputs": [],
   "source": [
    "qual_dict = {\n",
    "    1: \"Secondary education\",\n",
    "    2: \"Higher education—bachelor’s degree\",\n",
    "    3: \"Higher education—degree\",\n",
    "    4: \"Higher education—master’s degree\",\n",
    "    5: \"Higher education—doctorate\",\n",
    "    6: \"Frequency of higher education\",\n",
    "    7: \"12th year of schooling—not completed\",\n",
    "    8: \"11th year of schooling—not completed\",\n",
    "    9: \"Other—11th year of schooling\",\n",
    "    10: \"10th year of schooling\",\n",
    "    11: \"10th year of schooling—not completed\",\n",
    "    12: \"Basic education 3rd cycle (9th/10th/11th year) or equivalent\",\n",
    "    13: \"Basic education 2nd cycle (6th/7th/8th year) or equivalent\",\n",
    "    14: \"Technological specialization course\",\n",
    "    15: \"Higher education—degree (1st cycle)\",\n",
    "    16: \"Professional higher technical course\",\n",
    "    17: \"Higher education—master’s degree (2nd cycle)\"\n",
    "}\n",
    "\n",
    "parent_qual_dict = {\n",
    "    1: \"Secondary Education—12th Year of Schooling or Equivalent\",\n",
    "    2: \"Higher Education—bachelor’s degree\",\n",
    "    3: \"Higher Education—degree\",\n",
    "    4: \"Higher Education—master’s degree\",\n",
    "    5: \"Higher Education—doctorate\",\n",
    "    6: \"Frequency of Higher Education\",\n",
    "    7: \"12th Year of Schooling—not completed\",\n",
    "    8: \"11th Year of Schooling—not completed\",\n",
    "    9: \"7th Year (Old)\",\n",
    "    10: \"Other—11th Year of Schooling\",\n",
    "    11: \"2nd Year Complementary High School Course\",\n",
    "    12: \"10th Year of Schooling\",\n",
    "    13: \"General Commerce Course\",\n",
    "    14: \"Basic Education 3rd Cycle (9th/10th/11th Year) or Equivalent\",\n",
    "    15: \"Complementary High School Course\",\n",
    "    16: \"Technical-Professional Course\",\n",
    "    17: \"Complementary High School Course—not concluded\",\n",
    "    18: \"7th Year of Schooling\",\n",
    "    19: \"2nd Cycle of the General High School Course\",\n",
    "    20: \"9th Year of Schooling—not completed\",\n",
    "    21: \"8th Year of Schooling\",\n",
    "    22: \"General Course of Administration and Commerce\",\n",
    "    23: \"Supplementary Accounting and Administration\",\n",
    "    24: \"Unknown\",\n",
    "    25: \"Cannot Read or Write\",\n",
    "    26: \"Can Read Without Having a 4th Year of Schooling\",\n",
    "    27: \"Basic Education 1st Cycle (4th/5th Year) or Equivalent\",\n",
    "    28: \"Basic Education 2nd Cycle (6th/7th/8th Year) or Equivalent\",\n",
    "    29: \"Technological Specialization Course\",\n",
    "    30: \"Higher Education—degree (1st cycle)\",\n",
    "    31: \"Specialized Higher Studies Course\",\n",
    "    32: \"Professional Higher Technical Course\",\n",
    "    33: \"Higher Education—master’s degree (2nd cycle)\",\n",
    "    34: \"Higher Education—doctorate (3rd cycle)\"\n",
    "}\n",
    "\n",
    "ds[\"Previous qualification\"] = ds[\"Previous qualification\"].map(qual_dict).fillna(ds[\"Previous qualification\"])\n",
    "ds[\"Mother's qualification\"] = ds[\"Mother's qualification\"].map(parent_qual_dict).fillna(ds[\"Mother's qualification\"])\n",
    "ds[\"Father's qualification\"] = ds[\"Father's qualification\"].map(parent_qual_dict).fillna(ds[\"Father's qualification\"])"
   ]
  },
  {
   "cell_type": "code",
   "execution_count": 10,
   "metadata": {},
   "outputs": [],
   "source": [
    "ds.to_csv(\"DataSet_formatado.csv\")"
   ]
  },
  {
   "cell_type": "code",
   "execution_count": 11,
   "metadata": {},
   "outputs": [],
   "source": [
    "yes_no_dic = {\n",
    "    0: \"No\", 1: \"Yes\"\n",
    "}\n",
    "\n",
    "columns_name = [\"Tuition fees up to date\", \"Scholarship holder\", \"International\"]\n",
    "\n",
    "for i in columns_name: ds[i] = ds[i].map(yes_no_dic).fillna(ds[i])"
   ]
  }
 ],
 "metadata": {
  "kernelspec": {
   "display_name": ".venv",
   "language": "python",
   "name": "python3"
  },
  "language_info": {
   "codemirror_mode": {
    "name": "ipython",
    "version": 3
   },
   "file_extension": ".py",
   "mimetype": "text/x-python",
   "name": "python",
   "nbconvert_exporter": "python",
   "pygments_lexer": "ipython3",
   "version": "3.12.1"
  }
 },
 "nbformat": 4,
 "nbformat_minor": 2
}
