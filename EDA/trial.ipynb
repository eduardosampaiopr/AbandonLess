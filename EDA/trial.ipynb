{
 "cells": [
  {
   "cell_type": "markdown",
   "metadata": {},
   "source": [
    "# Import de Bibliotecas"
   ]
  },
  {
   "cell_type": "code",
   "execution_count": 1,
   "metadata": {},
   "outputs": [],
   "source": [
    "import pandas as pd\n",
    "import numpy as np\n",
    "import matplotlib.pylab as plt\n",
    "import seaborn as sns\n",
    "#plt.style.use('ggplot')\n",
    "#pd.set_option('max_columns', 200)"
   ]
  },
  {
   "cell_type": "markdown",
   "metadata": {},
   "source": [
    "# Leitura e Data Understanding de DataSet"
   ]
  },
  {
   "cell_type": "code",
   "execution_count": 11,
   "metadata": {},
   "outputs": [
    {
     "ename": "ParserError",
     "evalue": "Error tokenizing data. C error: Expected 1 fields in line 3383, saw 2\n",
     "output_type": "error",
     "traceback": [
      "\u001b[1;31m---------------------------------------------------------------------------\u001b[0m",
      "\u001b[1;31mParserError\u001b[0m                               Traceback (most recent call last)",
      "Cell \u001b[1;32mIn[11], line 1\u001b[0m\n\u001b[1;32m----> 1\u001b[0m ds \u001b[38;5;241m=\u001b[39m \u001b[43mpd\u001b[49m\u001b[38;5;241;43m.\u001b[39;49m\u001b[43mread_csv\u001b[49m\u001b[43m(\u001b[49m\u001b[38;5;124;43m\"\u001b[39;49m\u001b[38;5;124;43mC:/Users/Eduardo/Desktop/EDA/dataset_act.csv\u001b[39;49m\u001b[38;5;124;43m\"\u001b[39;49m\u001b[43m,\u001b[49m\u001b[43m \u001b[49m\u001b[43msep\u001b[49m\u001b[43m \u001b[49m\u001b[38;5;241;43m=\u001b[39;49m\u001b[43m \u001b[49m\u001b[38;5;124;43m\"\u001b[39;49m\u001b[38;5;124;43m,\u001b[39;49m\u001b[38;5;124;43m\"\u001b[39;49m\u001b[43m)\u001b[49m\n\u001b[0;32m      3\u001b[0m \u001b[38;5;28mprint\u001b[39m(\u001b[38;5;124m\"\u001b[39m\u001b[38;5;124mLinhas:\u001b[39m\u001b[38;5;124m\"\u001b[39m, ds\u001b[38;5;241m.\u001b[39mshape[\u001b[38;5;241m0\u001b[39m], \u001b[38;5;124m\"\u001b[39m\u001b[38;5;124m Colunas\u001b[39m\u001b[38;5;124m\"\u001b[39m, ds\u001b[38;5;241m.\u001b[39mshape[\u001b[38;5;241m1\u001b[39m]) \n\u001b[0;32m      5\u001b[0m ds\u001b[38;5;241m.\u001b[39mdtypes\n",
      "File \u001b[1;32mc:\\Users\\Eduardo\\Desktop\\EDA\\.venv\\Lib\\site-packages\\pandas\\io\\parsers\\readers.py:1026\u001b[0m, in \u001b[0;36mread_csv\u001b[1;34m(filepath_or_buffer, sep, delimiter, header, names, index_col, usecols, dtype, engine, converters, true_values, false_values, skipinitialspace, skiprows, skipfooter, nrows, na_values, keep_default_na, na_filter, verbose, skip_blank_lines, parse_dates, infer_datetime_format, keep_date_col, date_parser, date_format, dayfirst, cache_dates, iterator, chunksize, compression, thousands, decimal, lineterminator, quotechar, quoting, doublequote, escapechar, comment, encoding, encoding_errors, dialect, on_bad_lines, delim_whitespace, low_memory, memory_map, float_precision, storage_options, dtype_backend)\u001b[0m\n\u001b[0;32m   1013\u001b[0m kwds_defaults \u001b[38;5;241m=\u001b[39m _refine_defaults_read(\n\u001b[0;32m   1014\u001b[0m     dialect,\n\u001b[0;32m   1015\u001b[0m     delimiter,\n\u001b[1;32m   (...)\u001b[0m\n\u001b[0;32m   1022\u001b[0m     dtype_backend\u001b[38;5;241m=\u001b[39mdtype_backend,\n\u001b[0;32m   1023\u001b[0m )\n\u001b[0;32m   1024\u001b[0m kwds\u001b[38;5;241m.\u001b[39mupdate(kwds_defaults)\n\u001b[1;32m-> 1026\u001b[0m \u001b[38;5;28;01mreturn\u001b[39;00m \u001b[43m_read\u001b[49m\u001b[43m(\u001b[49m\u001b[43mfilepath_or_buffer\u001b[49m\u001b[43m,\u001b[49m\u001b[43m \u001b[49m\u001b[43mkwds\u001b[49m\u001b[43m)\u001b[49m\n",
      "File \u001b[1;32mc:\\Users\\Eduardo\\Desktop\\EDA\\.venv\\Lib\\site-packages\\pandas\\io\\parsers\\readers.py:626\u001b[0m, in \u001b[0;36m_read\u001b[1;34m(filepath_or_buffer, kwds)\u001b[0m\n\u001b[0;32m    623\u001b[0m     \u001b[38;5;28;01mreturn\u001b[39;00m parser\n\u001b[0;32m    625\u001b[0m \u001b[38;5;28;01mwith\u001b[39;00m parser:\n\u001b[1;32m--> 626\u001b[0m     \u001b[38;5;28;01mreturn\u001b[39;00m \u001b[43mparser\u001b[49m\u001b[38;5;241;43m.\u001b[39;49m\u001b[43mread\u001b[49m\u001b[43m(\u001b[49m\u001b[43mnrows\u001b[49m\u001b[43m)\u001b[49m\n",
      "File \u001b[1;32mc:\\Users\\Eduardo\\Desktop\\EDA\\.venv\\Lib\\site-packages\\pandas\\io\\parsers\\readers.py:1923\u001b[0m, in \u001b[0;36mTextFileReader.read\u001b[1;34m(self, nrows)\u001b[0m\n\u001b[0;32m   1916\u001b[0m nrows \u001b[38;5;241m=\u001b[39m validate_integer(\u001b[38;5;124m\"\u001b[39m\u001b[38;5;124mnrows\u001b[39m\u001b[38;5;124m\"\u001b[39m, nrows)\n\u001b[0;32m   1917\u001b[0m \u001b[38;5;28;01mtry\u001b[39;00m:\n\u001b[0;32m   1918\u001b[0m     \u001b[38;5;66;03m# error: \"ParserBase\" has no attribute \"read\"\u001b[39;00m\n\u001b[0;32m   1919\u001b[0m     (\n\u001b[0;32m   1920\u001b[0m         index,\n\u001b[0;32m   1921\u001b[0m         columns,\n\u001b[0;32m   1922\u001b[0m         col_dict,\n\u001b[1;32m-> 1923\u001b[0m     ) \u001b[38;5;241m=\u001b[39m \u001b[38;5;28;43mself\u001b[39;49m\u001b[38;5;241;43m.\u001b[39;49m\u001b[43m_engine\u001b[49m\u001b[38;5;241;43m.\u001b[39;49m\u001b[43mread\u001b[49m\u001b[43m(\u001b[49m\u001b[43m  \u001b[49m\u001b[38;5;66;43;03m# type: ignore[attr-defined]\u001b[39;49;00m\n\u001b[0;32m   1924\u001b[0m \u001b[43m        \u001b[49m\u001b[43mnrows\u001b[49m\n\u001b[0;32m   1925\u001b[0m \u001b[43m    \u001b[49m\u001b[43m)\u001b[49m\n\u001b[0;32m   1926\u001b[0m \u001b[38;5;28;01mexcept\u001b[39;00m \u001b[38;5;167;01mException\u001b[39;00m:\n\u001b[0;32m   1927\u001b[0m     \u001b[38;5;28mself\u001b[39m\u001b[38;5;241m.\u001b[39mclose()\n",
      "File \u001b[1;32mc:\\Users\\Eduardo\\Desktop\\EDA\\.venv\\Lib\\site-packages\\pandas\\io\\parsers\\c_parser_wrapper.py:234\u001b[0m, in \u001b[0;36mCParserWrapper.read\u001b[1;34m(self, nrows)\u001b[0m\n\u001b[0;32m    232\u001b[0m \u001b[38;5;28;01mtry\u001b[39;00m:\n\u001b[0;32m    233\u001b[0m     \u001b[38;5;28;01mif\u001b[39;00m \u001b[38;5;28mself\u001b[39m\u001b[38;5;241m.\u001b[39mlow_memory:\n\u001b[1;32m--> 234\u001b[0m         chunks \u001b[38;5;241m=\u001b[39m \u001b[38;5;28;43mself\u001b[39;49m\u001b[38;5;241;43m.\u001b[39;49m\u001b[43m_reader\u001b[49m\u001b[38;5;241;43m.\u001b[39;49m\u001b[43mread_low_memory\u001b[49m\u001b[43m(\u001b[49m\u001b[43mnrows\u001b[49m\u001b[43m)\u001b[49m\n\u001b[0;32m    235\u001b[0m         \u001b[38;5;66;03m# destructive to chunks\u001b[39;00m\n\u001b[0;32m    236\u001b[0m         data \u001b[38;5;241m=\u001b[39m _concatenate_chunks(chunks)\n",
      "File \u001b[1;32mparsers.pyx:838\u001b[0m, in \u001b[0;36mpandas._libs.parsers.TextReader.read_low_memory\u001b[1;34m()\u001b[0m\n",
      "File \u001b[1;32mparsers.pyx:905\u001b[0m, in \u001b[0;36mpandas._libs.parsers.TextReader._read_rows\u001b[1;34m()\u001b[0m\n",
      "File \u001b[1;32mparsers.pyx:874\u001b[0m, in \u001b[0;36mpandas._libs.parsers.TextReader._tokenize_rows\u001b[1;34m()\u001b[0m\n",
      "File \u001b[1;32mparsers.pyx:891\u001b[0m, in \u001b[0;36mpandas._libs.parsers.TextReader._check_tokenize_status\u001b[1;34m()\u001b[0m\n",
      "File \u001b[1;32mparsers.pyx:2061\u001b[0m, in \u001b[0;36mpandas._libs.parsers.raise_parser_error\u001b[1;34m()\u001b[0m\n",
      "\u001b[1;31mParserError\u001b[0m: Error tokenizing data. C error: Expected 1 fields in line 3383, saw 2\n"
     ]
    }
   ],
   "source": [
    "ds = pd.read_csv(\"C:/Users/Eduardo/Desktop/EDA/dataset_act.csv\", sep = \",\")\n",
    "\n",
    "print(\"Linhas:\", ds.shape[0], \" Colunas\", ds.shape[1]) \n",
    "\n",
    "ds.dtypes"
   ]
  },
  {
   "cell_type": "code",
   "execution_count": 27,
   "metadata": {},
   "outputs": [
    {
     "data": {
      "text/plain": [
       "Application mode\n",
       "1st phase—general contingent                           1708\n",
       "2nd phase—general contingent                            872\n",
       "Over 23 years old                                       785\n",
       "Change in course                                        312\n",
       " Technological specialization diploma holders           213\n",
       "Holders of other higher courses                         139\n",
       "3rd phase—general contingent                            124\n",
       "Transfer                                                 77\n",
       "Change in institution/course                             59\n",
       "1st phase—special contingent (Madeira Island)            38\n",
       "Short cycle diploma holders                              35\n",
       "International student (bachelor)                         30\n",
       "1st phase—special contingent (Azores Island)             16\n",
       "Ordinance No. 854-B/99                                   10\n",
       "Ordinance No. 612/93                                      3\n",
       "Change in institution/course (International)              1\n",
       "Ordinance No. 533-A/99, item b2) (Different Plan)         1\n",
       "Ordinance No. 533-A/99, item b3 (Other Institution)       1\n",
       "Name: count, dtype: int64"
      ]
     },
     "execution_count": 27,
     "metadata": {},
     "output_type": "execute_result"
    }
   ],
   "source": [
    "ds[\"Application mode\"].unique()\n",
    "ds[\"Application mode\"].value_counts()\n"
   ]
  },
  {
   "cell_type": "markdown",
   "metadata": {},
   "source": [
    "# Substituição de Valores no CSV "
   ]
  },
  {
   "cell_type": "code",
   "execution_count": null,
   "metadata": {},
   "outputs": [],
   "source": [
    "courses_dict = {\n",
    "    1: \"Biofuel Production Technologies\",\n",
    "    2: \"Animation and Multimedia Design\",\n",
    "    3: \"Social Service (evening attendance)\",\n",
    "    4: \"Agronomy\",\n",
    "    5: \"Communication Design\",\n",
    "    6: \"Veterinary Nursing\",\n",
    "    7: \"Informatics Engineering\",\n",
    "    8: \"Equiniculture\",\n",
    "    9: \"Management\",\n",
    "    10: \"Social Service\",\n",
    "    11: \"Tourism\",\n",
    "    12: \"Nursing\",\n",
    "    13: \"Oral Hygiene\",\n",
    "    14: \"Advertising and Marketing Management\",\n",
    "    15: \"Journalism and Communication\",\n",
    "    16: \"Basic Education\",\n",
    "    17: \"Management (evening attendance)\"}\n",
    "\n",
    "\n",
    "ds[\"Course\"] = ds[\"Course\"].map(courses_dict)\n",
    "\n",
    "\n",
    "\n"
   ]
  },
  {
   "cell_type": "code",
   "execution_count": null,
   "metadata": {},
   "outputs": [],
   "source": [
    "occup_dict = {\n",
    "    1: \"Student\",\n",
    "    2: \"Representatives of the Legislative Power and Executive Bodies, Directors, Directors and Executive Managers\",\n",
    "    3: \"Specialists in Intellectual and Scientific Activities\",\n",
    "    4: \"Intermediate Level Technicians and Professions\",\n",
    "    5: \"Administrative staff\",\n",
    "    6: \"Personal Services, Security and Safety Workers, and Sellers\",\n",
    "    7: \"Farmers and Skilled Workers in Agriculture, Fisheries, and Forestry\",\n",
    "    8: \"Skilled Workers in Industry, Construction, and Craftsmen\",\n",
    "    9: \"Installation and Machine Operators and Assembly Workers\",\n",
    "    10: \"Unskilled Workers\",\n",
    "    11: \"Armed Forces Professions\",\n",
    "    12: \"Other Situation\",\n",
    "    13: \"Armed Forces Officers\",\n",
    "    14: \"Armed Forces Sergeants\",\n",
    "    15: \"Other Armed Forces Personnel\",\n",
    "    16: \"Directors of Administrative and Commercial Services\",\n",
    "    17: \"Hotel, Catering, Trade, and Other Services Directors\",\n",
    "    18: \"Specialists in the Physical Sciences, Mathematics, Engineering, and Related Techniques\",\n",
    "    19: \"Health Professionals\",\n",
    "    20: \"Teachers\",\n",
    "    21: \"Specialists in Finance, Accounting, Administrative Organization, and Public and Commercial Relations\",\n",
    "    22: \"Intermediate Level Science and Engineering Technicians and Professions\",\n",
    "    23: \"Technicians and Professionals of Intermediate Level of Health\",\n",
    "    24: \"Intermediate Level Technicians from Legal, Social, Sports, Cultural, and Similar Services\",\n",
    "    25: \"Information and Communication Technology Technicians\",\n",
    "    26: \"Office Workers, Secretaries in General, and Data Processing Operators\",\n",
    "    27: \"Data, Accounting, Statistical, Financial Services, and Registry-Related Operators\",\n",
    "    28: \"Other Administrative Support Staff\",\n",
    "    29: \"Personal Service Workers\",\n",
    "    30: \"Sellers\",\n",
    "    31: \"Personal Care Workers and the Like\",\n",
    "    32: \"Protection and Security Services Personnel\",\n",
    "    33: \"Market-Oriented Farmers and Skilled Agricultural and Animal Production Workers\",\n",
    "    34: \"Farmers, Livestock Keepers, Fishermen, Hunters and Gatherers, and Subsistence\",\n",
    "    35: \"Skilled Construction Workers and the Like, Except Electricians\",\n",
    "    36: \"Skilled Workers in Metallurgy, Metalworking, and Similar\",\n",
    "    37: \"Skilled Workers in Electricity and Electronics\",\n",
    "    38: \"Workers in Food Processing, Woodworking, and Clothing and Other Industries and Crafts\",\n",
    "    39: \"Fixed Plant and Machine Operators\",\n",
    "    40: \"Assembly Workers\",\n",
    "    41: \"Vehicle Drivers and Mobile Equipment Operators\",\n",
    "    42: \"Unskilled Workers in Agriculture, Animal Production, and Fisheries and Forestry\",\n",
    "    43: \"Unskilled Workers in Extractive Industry, Construction, Manufacturing, and Transport\",\n",
    "    44: \"Meal Preparation Assistants\",\n",
    "    45: \"Street Vendors (Except Food) and Street Service Providers\"\n",
    "}\n",
    "\n",
    "ds[\"Mother's occupation\"] = ds[\"Mother's occupation\"].map(occup_dict).fillna(ds[\"Mother's occupation\"])\n",
    "ds[\"Father's occupation\"] = ds[\"Father's occupation\"].map(occup_dict).fillna(ds[\"Father's occupation\"])"
   ]
  },
  {
   "cell_type": "code",
   "execution_count": 7,
   "metadata": {},
   "outputs": [],
   "source": [
    "nationality_dict = {\n",
    "    1: \"Portuguese\",\n",
    "    2: \"German\",\n",
    "    3: \"Spanish\",\n",
    "    4: \"Italian\",\n",
    "    5: \"Dutch\",\n",
    "    6: \"English\",\n",
    "    7: \"Lithuanian\",\n",
    "    8: \"Angolan\",\n",
    "    9: \"Cape Verdean\",\n",
    "    10: \"Guinean\",\n",
    "    11: \"Mozambican\",\n",
    "    12: \"Santomean\",\n",
    "    13: \"Turkish\",\n",
    "    14: \"Brazilian\",\n",
    "    15: \"Romanian\",\n",
    "    16: \"Moldova (Republic of)\",\n",
    "    17: \"Mexican\",\n",
    "    18: \"Ukrainian\",\n",
    "    19: \"Russian\",\n",
    "    20: \"Cuban\",\n",
    "    21: \"Colombian\"\n",
    "}\n",
    "\n",
    "ds[\"Nacionality\"] = ds[\"Nacionality\"].map(nationality_dict).fillna(ds[\"Nacionality\"])"
   ]
  },
  {
   "cell_type": "code",
   "execution_count": 8,
   "metadata": {},
   "outputs": [],
   "source": [
    "qual_dict = {\n",
    "    1: \"Secondary education\",\n",
    "    2: \"Higher education—bachelor’s degree\",\n",
    "    3: \"Higher education—degree\",\n",
    "    4: \"Higher education—master’s degree\",\n",
    "    5: \"Higher education—doctorate\",\n",
    "    6: \"Frequency of higher education\",\n",
    "    7: \"12th year of schooling—not completed\",\n",
    "    8: \"11th year of schooling—not completed\",\n",
    "    9: \"Other—11th year of schooling\",\n",
    "    10: \"10th year of schooling\",\n",
    "    11: \"10th year of schooling—not completed\",\n",
    "    12: \"Basic education 3rd cycle (9th/10th/11th year) or equivalent\",\n",
    "    13: \"Basic education 2nd cycle (6th/7th/8th year) or equivalent\",\n",
    "    14: \"Technological specialization course\",\n",
    "    15: \"Higher education—degree (1st cycle)\",\n",
    "    16: \"Professional higher technical course\",\n",
    "    17: \"Higher education—master’s degree (2nd cycle)\"\n",
    "}\n",
    "\n",
    "parent_qual_dict = {\n",
    "    1: \"Secondary Education—12th Year of Schooling or Equivalent\",\n",
    "    2: \"Higher Education—bachelor’s degree\",\n",
    "    3: \"Higher Education—degree\",\n",
    "    4: \"Higher Education—master’s degree\",\n",
    "    5: \"Higher Education—doctorate\",\n",
    "    6: \"Frequency of Higher Education\",\n",
    "    7: \"12th Year of Schooling—not completed\",\n",
    "    8: \"11th Year of Schooling—not completed\",\n",
    "    9: \"7th Year (Old)\",\n",
    "    10: \"Other—11th Year of Schooling\",\n",
    "    11: \"2nd Year Complementary High School Course\",\n",
    "    12: \"10th Year of Schooling\",\n",
    "    13: \"General Commerce Course\",\n",
    "    14: \"Basic Education 3rd Cycle (9th/10th/11th Year) or Equivalent\",\n",
    "    15: \"Complementary High School Course\",\n",
    "    16: \"Technical-Professional Course\",\n",
    "    17: \"Complementary High School Course—not concluded\",\n",
    "    18: \"7th Year of Schooling\",\n",
    "    19: \"2nd Cycle of the General High School Course\",\n",
    "    20: \"9th Year of Schooling—not completed\",\n",
    "    21: \"8th Year of Schooling\",\n",
    "    22: \"General Course of Administration and Commerce\",\n",
    "    23: \"Supplementary Accounting and Administration\",\n",
    "    24: \"Unknown\",\n",
    "    25: \"Cannot Read or Write\",\n",
    "    26: \"Can Read Without Having a 4th Year of Schooling\",\n",
    "    27: \"Basic Education 1st Cycle (4th/5th Year) or Equivalent\",\n",
    "    28: \"Basic Education 2nd Cycle (6th/7th/8th Year) or Equivalent\",\n",
    "    29: \"Technological Specialization Course\",\n",
    "    30: \"Higher Education—degree (1st cycle)\",\n",
    "    31: \"Specialized Higher Studies Course\",\n",
    "    32: \"Professional Higher Technical Course\",\n",
    "    33: \"Higher Education—master’s degree (2nd cycle)\",\n",
    "    34: \"Higher Education—doctorate (3rd cycle)\"\n",
    "}\n",
    "\n",
    "ds[\"Previous qualification\"] = ds[\"Previous qualification\"].map(qual_dict).fillna(ds[\"Previous qualification\"])\n",
    "ds[\"Mother's qualification\"] = ds[\"Mother's qualification\"].map(parent_qual_dict).fillna(ds[\"Mother's qualification\"])\n",
    "ds[\"Father's qualification\"] = ds[\"Father's qualification\"].map(parent_qual_dict).fillna(ds[\"Father's qualification\"])"
   ]
  },
  {
   "cell_type": "code",
   "execution_count": 10,
   "metadata": {},
   "outputs": [],
   "source": [
    "ds.to_csv(\"DataSet_formatado.csv\")"
   ]
  }
 ],
 "metadata": {
  "kernelspec": {
   "display_name": ".venv",
   "language": "python",
   "name": "python3"
  },
  "language_info": {
   "codemirror_mode": {
    "name": "ipython",
    "version": 3
   },
   "file_extension": ".py",
   "mimetype": "text/x-python",
   "name": "python",
   "nbconvert_exporter": "python",
   "pygments_lexer": "ipython3",
   "version": "3.12.1"
  }
 },
 "nbformat": 4,
 "nbformat_minor": 2
}
